{
 "cells": [
  {
   "cell_type": "code",
   "execution_count": null,
   "id": "45f5232b-e122-49b7-b654-af3c4cb107ac",
   "metadata": {},
   "outputs": [],
   "source": [
    "import os\n",
    "\n",
    "if \"COLAB_GPU\" in os.environ:\n",
    "    !pip install feedzai-altair-theme"
   ]
  },
  {
   "cell_type": "code",
   "execution_count": null,
   "id": "15ea0555-8743-47c8-8575-7807a6de29d8",
   "metadata": {},
   "outputs": [],
   "source": [
    "\"COLAB_GPU\" in os.environ"
   ]
  },
  {
   "cell_type": "markdown",
   "id": "39d9677b-ef58-4fca-bcb9-1512fa088c94",
   "metadata": {},
   "source": [
    "---"
   ]
  },
  {
   "cell_type": "code",
   "execution_count": null,
   "id": "cb2357e1-8d8b-4efe-ad7e-42dc2ceded46",
   "metadata": {},
   "outputs": [],
   "source": [
    "import os\n",
    "\n",
    "if \"DEEPNOTE_PROJECT_ID\" in os.environ and \"DEEPNOTE_PROJECT_OWNER_ID\" in os.environ:\n",
    "    !pip install altair vega-datasets feedzai-altair-theme"
   ]
  },
  {
   "cell_type": "code",
   "execution_count": null,
   "id": "c4d2cd9a-eb4e-43f7-a251-a924af8e32db",
   "metadata": {},
   "outputs": [],
   "source": [
    "\"DEEPNOTE_PROJECT_ID\" in os.environ"
   ]
  },
  {
   "cell_type": "code",
   "execution_count": null,
   "id": "b0afd4da-2bdc-4f45-b33f-54df405fc387",
   "metadata": {},
   "outputs": [],
   "source": [
    "\"DEEPNOTE_PROJECT_OWNER_ID\" in os.environ"
   ]
  },
  {
   "cell_type": "markdown",
   "id": "bbd5a7da-6afe-43a7-a35d-29408dad36dd",
   "metadata": {},
   "source": [
    "---"
   ]
  }
 ],
 "metadata": {
  "kernelspec": {
   "display_name": "Python 3 (ipykernel)",
   "language": "python",
   "name": "python3"
  },
  "language_info": {
   "codemirror_mode": {
    "name": "ipython",
    "version": 3
   },
   "file_extension": ".py",
   "mimetype": "text/x-python",
   "name": "python",
   "nbconvert_exporter": "python",
   "pygments_lexer": "ipython3",
   "version": "3.7.12"
  }
 },
 "nbformat": 4,
 "nbformat_minor": 5
}
